{
 "cells": [
  {
   "cell_type": "code",
   "execution_count": 1,
   "id": "33b8f9c1",
   "metadata": {},
   "outputs": [],
   "source": [
    "import pickle\n",
    "import os\n",
    "from time import sleep\n",
    "from hyperopt import fmin, tpe, hp, anneal, Trials,space_eval\n",
    "import numpy as np"
   ]
  },
  {
   "cell_type": "code",
   "execution_count": 2,
   "id": "10e9cd4a",
   "metadata": {},
   "outputs": [],
   "source": [
    "TRIALS_FOLDER = 'C:/Users/raghu/Desktop/HM/trials/'"
   ]
  },
  {
   "cell_type": "code",
   "execution_count": 3,
   "id": "c202e48e",
   "metadata": {},
   "outputs": [],
   "source": [
    "space={'boosting_type': hp.choice('boosting_type', ['gbdt','dart','goss']),\n",
    "   'stopwords_type': hp.choice('stopwords_type', [True,False,]),\n",
    "   'classifier_type': hp.choice('classifier_type', ['MultiOutputClassifier','ClassifierChain','OneVsRestClassifier']),\n",
    "    'num_leaves': hp.quniform('num_leaves', 30, 150, 1),\n",
    "    'learning_rate': hp.loguniform('learning_rate', np.log(0.01), np.log(0.2)),\n",
    "    'subsample_for_bin': hp.quniform('subsample_for_bin', 20000, 300000, 20000),\n",
    "    'feature_fraction': hp.uniform('feature_fraction', 0.5, 1),\n",
    "    'bagging_fraction': hp.uniform('bagging_fraction', 0.5, 1), #alias \"subsample\"\n",
    "    'min_data_in_leaf': hp.qloguniform('min_data_in_leaf', 0, 6, 1),\n",
    "    'lambda_l1': hp.choice('lambda_l1', [0, hp.loguniform('lambda_l1_positive', -16, 2)]),\n",
    "    'lambda_l2': hp.choice('lambda_l2', [0, hp.loguniform('lambda_l2_positive', -16, 2)]),\n",
    "    'min_child_weight': hp.loguniform('min_child_weight', -16, 5), #also aliases to min_sum_hessian\n",
    "    'n_estimators': hp.quniform('n_estimators', 100, 10000, 1),\n",
    "    }"
   ]
  },
  {
   "cell_type": "code",
   "execution_count": 4,
   "id": "4c0aeae4",
   "metadata": {},
   "outputs": [
    {
     "name": "stdout",
     "output_type": "stream",
     "text": [
      "C:/Users/raghu/Desktop/HM/trials/0.pkl\n",
      "C:/Users/raghu/Desktop/HM/trials/124684.pkl\n",
      "C:/Users/raghu/Desktop/HM/trials/156821.pkl\n",
      "C:/Users/raghu/Desktop/HM/trials/29996.pkl\n",
      "C:/Users/raghu/Desktop/HM/trials/30279.pkl\n",
      "C:/Users/raghu/Desktop/HM/trials/30523.pkl\n",
      "C:/Users/raghu/Desktop/HM/trials/31819.pkl\n",
      "C:/Users/raghu/Desktop/HM/trials/59992.pkl\n",
      "C:/Users/raghu/Desktop/HM/trials/61046.pkl\n",
      "C:/Users/raghu/Desktop/HM/trials/91042.pkl\n",
      "C:/Users/raghu/Desktop/HM/trials/92865.pkl\n"
     ]
    }
   ],
   "source": [
    "loaded_fnames = []\n",
    "trials = Trials()\n",
    "for fname in os.listdir(TRIALS_FOLDER):\n",
    "    num_fnmae = int(fname.split('.pkl')[0])\n",
    "    if num_fnmae in loaded_fnames:\n",
    "        continue\n",
    "    print(os.path.join(TRIALS_FOLDER, fname))\n",
    "    trials_obj = pickle.load(open(os.path.join(TRIALS_FOLDER, fname), 'rb'))\n",
    "\n",
    "    n_trials = trials_obj['n']\n",
    "    trials_obj = trials_obj['trials']\n",
    "    sleep(0.1)\n",
    "    trials.insert_trial_docs(trials_obj.trials[-n_trials:])\n",
    "    trials.refresh()\n",
    "    for i in range(len(trials.trials)):\n",
    "        trials.trials[i]['tid'] = i\n",
    "        trials.trials[i]['misc']['tid'] = i\n",
    "        for key,val in trials.trials[i]['misc']['idxs'].items():\n",
    "            if len(val) != 0:\n",
    "                trials.trials[i]['misc']['idxs'][key] = [i]"
   ]
  },
  {
   "cell_type": "code",
   "execution_count": 5,
   "id": "c4005435",
   "metadata": {},
   "outputs": [
    {
     "data": {
      "text/plain": [
       "{'bagging_fraction': 0.6556920582394372,\n",
       " 'boosting_type': 'goss',\n",
       " 'classifier_type': 'ClassifierChain',\n",
       " 'feature_fraction': 0.756825184360653,\n",
       " 'lambda_l1': 0,\n",
       " 'lambda_l2': 0,\n",
       " 'learning_rate': 0.016392761433969668,\n",
       " 'min_child_weight': 97.04598905051168,\n",
       " 'min_data_in_leaf': 198.0,\n",
       " 'n_estimators': 1747.0,\n",
       " 'num_leaves': 122.0,\n",
       " 'stopwords_type': True,\n",
       " 'subsample_for_bin': 200000.0}"
      ]
     },
     "execution_count": 5,
     "metadata": {},
     "output_type": "execute_result"
    }
   ],
   "source": [
    "space_eval(space, trials.argmin)"
   ]
  },
  {
   "cell_type": "code",
   "execution_count": 6,
   "id": "bc8715d4",
   "metadata": {},
   "outputs": [],
   "source": [
    "tid_list = []\n",
    "t_loss = []\n",
    "for tr in trials.trials:\n",
    "    tid_list.append(tr['tid'])\n",
    "    t_loss.append(tr['result']['loss'])\n",
    "\n",
    "tid_list = np.array(tid_list)\n",
    "t_loss = np.array(t_loss)"
   ]
  },
  {
   "cell_type": "code",
   "execution_count": 8,
   "id": "2e9f088b",
   "metadata": {},
   "outputs": [],
   "source": [
    "import matplotlib.pyplot as plt"
   ]
  },
  {
   "cell_type": "code",
   "execution_count": 9,
   "id": "beed3988",
   "metadata": {},
   "outputs": [
    {
     "data": {
      "text/plain": [
       "array([ 0,  1,  2,  3,  4,  5,  6,  7,  8,  9, 10], dtype=int64)"
      ]
     },
     "execution_count": 9,
     "metadata": {},
     "output_type": "execute_result"
    }
   ],
   "source": [
    "np.where(t_loss != None)[0]"
   ]
  },
  {
   "cell_type": "code",
   "execution_count": 10,
   "id": "6663f5a7",
   "metadata": {},
   "outputs": [],
   "source": [
    "new_loss = t_loss[np.where(t_loss != None)[0]]"
   ]
  },
  {
   "cell_type": "code",
   "execution_count": 11,
   "id": "9465a7b6",
   "metadata": {},
   "outputs": [
    {
     "data": {
      "image/png": "[encoded data removed]",
      "text/plain": [
       "<Figure size 720x432 with 1 Axes>"
      ]
     },
     "metadata": {
      "needs_background": "light"
     },
     "output_type": "display_data"
    }
   ],
   "source": [
    "plt.figure(figsize=(10,6))\n",
    "plt.plot(new_loss)\n",
    "plt.plot(new_loss.argmin(),new_loss.min(),'ro')\n",
    "plt.show()"
   ]
  },
  {
   "cell_type": "code",
   "execution_count": null,
   "id": "025384cf",
   "metadata": {},
   "outputs": [],
   "source": []
  }
 ],
 "metadata": {
  "kernelspec": {
   "display_name": "Python 3 (ipykernel)",
   "language": "python",
   "name": "python3"
  },
  "language_info": {
   "codemirror_mode": {
    "name": "ipython",
    "version": 3
   },
   "file_extension": ".py",
   "mimetype": "text/x-python",
   "name": "python",
   "nbconvert_exporter": "python",
   "pygments_lexer": "ipython3",
   "version": "3.9.7"
  }
 },
 "nbformat": 4,
 "nbformat_minor": 5
}
